{
 "cells": [
  {
   "cell_type": "code",
   "execution_count": 1,
   "id": "6b50bc47",
   "metadata": {},
   "outputs": [
    {
     "name": "stderr",
     "output_type": "stream",
     "text": [
      "WARNING: Using incubator modules: jdk.incubator.vector\n",
      "Using Spark's default log4j profile: org/apache/spark/log4j2-defaults.properties\n",
      "25/07/23 16:18:27 WARN Utils: Your hostname, MacBook-Pro-cua-Quach.local, resolves to a loopback address: 127.0.0.1; using 192.168.100.49 instead (on interface en0)\n",
      "25/07/23 16:18:27 WARN Utils: Set SPARK_LOCAL_IP if you need to bind to another address\n",
      "Using Spark's default log4j profile: org/apache/spark/log4j2-defaults.properties\n",
      "Setting default log level to \"WARN\".\n",
      "To adjust logging level use sc.setLogLevel(newLevel). For SparkR, use setLogLevel(newLevel).\n",
      "25/07/23 16:18:28 WARN NativeCodeLoader: Unable to load native-hadoop library for your platform... using builtin-java classes where applicable\n"
     ]
    }
   ],
   "source": [
    "from pyspark.sql import SparkSession\n",
    "\n",
    "spark = SparkSession \\\n",
    "    .builder \\\n",
    "    .appName(\"Prepare Dataset\") \\\n",
    "    .master(\"local[*]\") \\\n",
    "    .config(\"spark.driver.memory\", \"8g\") \\\n",
    "    .config(\"spark.sql.shuffle.partitions\", \"8\") \\\n",
    "    .config(\"spark.executor.memoryOverhead\", \"512m\") \\\n",
    "    .config(\"spark.driver.extraJavaOptions\", \"-XX:+UseG1GC\") \\\n",
    "    .getOrCreate()"
   ]
  },
  {
   "cell_type": "code",
   "execution_count": 12,
   "id": "541201a5",
   "metadata": {},
   "outputs": [
    {
     "name": "stderr",
     "output_type": "stream",
     "text": [
      "[Stage 93:=======================================================>(60 + 1) / 61]\r"
     ]
    },
    {
     "name": "stdout",
     "output_type": "stream",
     "text": [
      "root\n",
      " |-- marketplace: string (nullable = true)\n",
      " |-- customer_id: integer (nullable = true)\n",
      " |-- id: string (nullable = true)\n",
      " |-- product_id: string (nullable = true)\n",
      " |-- star_rating: string (nullable = true)\n",
      " |-- helpful_votes: integer (nullable = true)\n",
      " |-- total_votes: integer (nullable = true)\n",
      " |-- verified_purchase: string (nullable = true)\n",
      " |-- review_headline: string (nullable = true)\n",
      " |-- review_body: string (nullable = true)\n",
      " |-- review_date: date (nullable = true)\n",
      "\n"
     ]
    },
    {
     "name": "stderr",
     "output_type": "stream",
     "text": [
      "                                                                                \r"
     ]
    }
   ],
   "source": [
    "df_product = spark.read \\\n",
    "    .option(\"header\", True) \\\n",
    "    .option(\"inferSchema\", True) \\\n",
    "    .option(\"delimiter\", \"\\t\") \\\n",
    "    .csv(\"data_source/merged_kaggle_datasets/\")\n",
    "\n",
    "df_product.printSchema()\n"
   ]
  },
  {
   "cell_type": "code",
   "execution_count": 13,
   "id": "c62a2b76",
   "metadata": {},
   "outputs": [
    {
     "name": "stderr",
     "output_type": "stream",
     "text": [
      "                                                                                \r"
     ]
    },
    {
     "data": {
      "text/plain": [
       "22941811"
      ]
     },
     "execution_count": 13,
     "metadata": {},
     "output_type": "execute_result"
    }
   ],
   "source": [
    "df_product.count() # 22941811"
   ]
  },
  {
   "cell_type": "code",
   "execution_count": null,
   "id": "3ca965b5",
   "metadata": {},
   "outputs": [],
   "source": [
    "df_product = df_product.withColumnRenamed(\"review_id\", \"id\")"
   ]
  },
  {
   "cell_type": "code",
   "execution_count": 11,
   "id": "79a0c337",
   "metadata": {},
   "outputs": [
    {
     "name": "stderr",
     "output_type": "stream",
     "text": [
      "                                                                                \r"
     ]
    }
   ],
   "source": [
    "import os\n",
    "import shutil\n",
    "from pyspark.sql import SparkSession\n",
    "\n",
    "\n",
    "input_dir = \"data_source/merged_kaggle_datasets/\"\n",
    "temp_output_dir = \"data_source/merged_kaggle_datasets/temp_output/\"\n",
    "\n",
    "# Đảm bảo thư mục tạm tồn tại\n",
    "os.makedirs(temp_output_dir, exist_ok=True)\n",
    "\n",
    "for filename in os.listdir(input_dir):\n",
    "    if not filename.endswith(\".tsv\"):\n",
    "        continue\n",
    "\n",
    "    input_path = os.path.join(input_dir, filename)\n",
    "\n",
    "    # Đọc file TSV\n",
    "    df = spark.read \\\n",
    "        .option(\"header\", True) \\\n",
    "        .option(\"inferSchema\", True) \\\n",
    "        .option(\"delimiter\", \"\\t\") \\\n",
    "        .csv(input_path)\n",
    "\n",
    "    # Đổi tên cột nếu cần\n",
    "    if \"review_id\" in df.columns:\n",
    "        df = df.withColumnRenamed(\"review_id\", \"id\")\n",
    "\n",
    "    # Ghi ra thư mục tạm dưới dạng TSV, chỉ 1 file\n",
    "    df.coalesce(1) \\\n",
    "        .write \\\n",
    "        .option(\"header\", True) \\\n",
    "        .option(\"delimiter\", \"\\t\") \\\n",
    "        .mode(\"overwrite\") \\\n",
    "        .csv(temp_output_dir)\n",
    "\n",
    "    # Tìm file CSV thật sự trong thư mục tạm\n",
    "    for temp_file in os.listdir(temp_output_dir):\n",
    "        if temp_file.endswith(\".csv\"):\n",
    "            temp_file_path = os.path.join(temp_output_dir, temp_file)\n",
    "\n",
    "            # Ghi đè lại file gốc\n",
    "            shutil.move(temp_file_path, input_path)\n",
    "            break\n",
    "\n",
    "    # Xóa thư mục tạm (dọn dẹp sau mỗi file)\n",
    "    shutil.rmtree(temp_output_dir)\n"
   ]
  },
  {
   "cell_type": "code",
   "execution_count": null,
   "id": "d9cb6ad7",
   "metadata": {},
   "outputs": [],
   "source": [
    "df_product \\\n",
    "    .coalesce(1) \\\n",
    "    .write \\\n",
    "    .option(\"header\", True) \\\n",
    "    .mode(\"overwrite\") \\\n",
    "    .csv(\"data_source/processed_datasets/df_location_temp\")\n",
    "\n",
    "import os\n",
    "import shutil\n",
    "\n",
    "# Thư mục tạm nơi Spark vừa ghi file\n",
    "output_temp_dir = \"data_source/processed_datasets/df_location_temp\"\n",
    "final_output_path = \"data_source/processed_datasets/customer_location.csv\"\n",
    "\n",
    "# Tìm file CSV thực sự (bỏ _SUCCESS)\n",
    "for filename in os.listdir(output_temp_dir):\n",
    "    if filename.endswith(\".csv\"):\n",
    "        temp_csv_path = os.path.join(output_temp_dir, filename)\n",
    "        shutil.move(temp_csv_path, final_output_path)\n",
    "        break\n",
    "\n",
    "# Xoá thư mục tạm\n",
    "shutil.rmtree(output_temp_dir)\n"
   ]
  },
  {
   "cell_type": "code",
   "execution_count": null,
   "id": "59171cd5",
   "metadata": {},
   "outputs": [],
   "source": [
    "from pyspark.sql.functions import col, rand, sequence, explode, lit, round, date_add, to_date\n",
    "from pyspark.sql.types import IntegerType\n",
    "\n",
    "# Gán ngẫu nhiên số lần cập nhật giá (1–3 lần) để tạo ~8 triệu dòng\n",
    "df_with_changes = df_product.withColumn(\"change_times\", (rand() * 3 + 1).cast(\"int\"))\n",
    "\n",
    "# Tạo các chỉ số cập nhật cho mỗi sản phẩm\n",
    "df_exploded = df_with_changes.withColumn(\"change_index\", explode(sequence(lit(1), col(\"change_times\"))))\n",
    "\n",
    "# Tạo price mới và updated_at\n",
    "start_date = to_date(lit(\"1999-12-13\"))\n",
    "date_range_days = 5700  # khoảng từ 1999-12-13 đến 2015-08-31\n",
    "\n",
    "df_shadow_product = df_exploded \\\n",
    "    .withColumn(\"price\", round(col(\"price\") * (1 + rand() * 0.2 - 0.1), 2)) \\\n",
    "    .withColumn(\"updated_at\", date_add(start_date, (rand() * date_range_days).cast(IntegerType()))) \\\n",
    "    .select(\n",
    "        col(\"product_id\"),\n",
    "        col(\"product_title\"),\n",
    "        col(\"price\"),\n",
    "        col(\"currency\"),\n",
    "        col(\"updated_at\")\n",
    "    )\n"
   ]
  },
  {
   "cell_type": "code",
   "execution_count": null,
   "id": "f7942ac4",
   "metadata": {},
   "outputs": [],
   "source": [
    "from pyspark.sql.functions import expr\n",
    "\n",
    "df_shadow_product = df_shadow_product.withColumn(\"id\", expr(\"uuid()\"))"
   ]
  },
  {
   "cell_type": "code",
   "execution_count": null,
   "id": "d99462d9",
   "metadata": {},
   "outputs": [],
   "source": [
    "# df_reviews = spark.read \\\n",
    "#     .option(\"header\", True) \\\n",
    "#     .option(\"delimiter\", \"\\t\") \\\n",
    "#     .csv(\"data_source/merged_kaggle_datasets/\")\n",
    "\n",
    "\n",
    "# +-------------+-----------+\n",
    "# |earliest_date|latest_date|\n",
    "# +-------------+-----------+\n",
    "# |   1999-12-13| 2015-08-31|\n",
    "# +-------------+-----------+"
   ]
  },
  {
   "cell_type": "code",
   "execution_count": null,
   "id": "6d8e9fe3",
   "metadata": {},
   "outputs": [],
   "source": [
    "df_shadow_product \\\n",
    "    .coalesce(1) \\\n",
    "    .write \\\n",
    "    .option(\"header\", True) \\\n",
    "    .mode(\"overwrite\") \\\n",
    "    .csv(\"data_source/processed_datasets/df_location_temp\")\n",
    "\n",
    "import os\n",
    "import shutil\n",
    "\n",
    "# Thư mục tạm nơi Spark vừa ghi file\n",
    "output_temp_dir = \"data_source/processed_datasets/df_location_temp\"\n",
    "final_output_path = \"data_source/processed_datasets/category.csv\"\n",
    "\n",
    "# Tìm file CSV thực sự (bỏ _SUCCESS)\n",
    "for filename in os.listdir(output_temp_dir):\n",
    "    if filename.endswith(\".csv\"):\n",
    "        temp_csv_path = os.path.join(output_temp_dir, filename)\n",
    "        shutil.move(temp_csv_path, final_output_path)\n",
    "        break\n",
    "\n",
    "# Xoá thư mục tạm\n",
    "shutil.rmtree(output_temp_dir)\n"
   ]
  },
  {
   "cell_type": "code",
   "execution_count": null,
   "id": "012947f1",
   "metadata": {},
   "outputs": [],
   "source": [
    "df_shadow_product.count()"
   ]
  },
  {
   "cell_type": "code",
   "execution_count": null,
   "id": "1bfc61ac",
   "metadata": {},
   "outputs": [],
   "source": [
    "spark.stop()"
   ]
  },
  {
   "cell_type": "code",
   "execution_count": null,
   "id": "20b68175",
   "metadata": {},
   "outputs": [],
   "source": []
  }
 ],
 "metadata": {
  "kernelspec": {
   "display_name": ".venv",
   "language": "python",
   "name": "python3"
  },
  "language_info": {
   "codemirror_mode": {
    "name": "ipython",
    "version": 3
   },
   "file_extension": ".py",
   "mimetype": "text/x-python",
   "name": "python",
   "nbconvert_exporter": "python",
   "pygments_lexer": "ipython3",
   "version": "3.10.7"
  }
 },
 "nbformat": 4,
 "nbformat_minor": 5
}
