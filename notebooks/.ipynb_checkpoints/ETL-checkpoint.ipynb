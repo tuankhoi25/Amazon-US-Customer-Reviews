{
 "cells": [
  {
   "cell_type": "code",
   "execution_count": 49,
   "id": "89b923b5-a59a-46c5-ae73-3f3cfc74cd1b",
   "metadata": {},
   "outputs": [],
   "source": [
    "spark.stop()"
   ]
  },
  {
   "cell_type": "markdown",
   "id": "13d5c527-ba8c-4b19-8798-6e35ace759bf",
   "metadata": {},
   "source": [
    "# Start Spark session"
   ]
  },
  {
   "cell_type": "code",
   "execution_count": 1,
   "id": "fb421474-43ec-4905-a941-d5523fc637a1",
   "metadata": {},
   "outputs": [],
   "source": [
    "import os\n",
    "import uuid\n",
    "import pyspark\n",
    "from pyspark.sql import SparkSession\n",
    "from pyspark.sql import functions as F\n",
    "from datetime import datetime, timezone, timedelta, date"
   ]
  },
  {
   "cell_type": "code",
   "execution_count": 2,
   "id": "a1f5005b-9c8f-4105-a6c7-2d7fb039301b",
   "metadata": {},
   "outputs": [],
   "source": [
    "AWS_S3_ENDPOINT = os.getenv(\"AWS_S3_ENDPOINT\")\n",
    "NESSIE_URI = os.getenv(\"NESSIE_URI\")\n",
    "WAREHOUSE = os.getenv(\"WAREHOUSE\")\n",
    "AWS_ACCESS_KEY_ID = os.getenv(\"AWS_ACCESS_KEY_ID\")\n",
    "AWS_SECRET_ACCESS_KEY = os.getenv(\"AWS_SECRET_ACCESS_KEY\")"
   ]
  },
  {
   "cell_type": "code",
   "execution_count": 3,
   "id": "8d768eb0-7503-4576-a365-e88dbcd7c5fa",
   "metadata": {},
   "outputs": [
    {
     "name": "stderr",
     "output_type": "stream",
     "text": [
      "/usr/local/lib/python3.8/site-packages/pyspark/bin/load-spark-env.sh: line 68: ps: command not found\n"
     ]
    },
    {
     "name": "stdout",
     "output_type": "stream",
     "text": [
      ":: loading settings :: url = jar:file:/usr/local/lib/python3.8/site-packages/pyspark/jars/ivy-2.5.1.jar!/org/apache/ivy/core/settings/ivysettings.xml\n"
     ]
    },
    {
     "name": "stderr",
     "output_type": "stream",
     "text": [
      "Ivy Default Cache set to: /root/.ivy2/cache\n",
      "The jars for the packages stored in: /root/.ivy2/jars\n",
      "org.apache.iceberg#iceberg-spark-runtime-3.5_2.12 added as a dependency\n",
      "org.projectnessie.nessie-integrations#nessie-spark-extensions-3.5_2.12 added as a dependency\n",
      "org.apache.iceberg#iceberg-aws-bundle added as a dependency\n",
      "org.postgresql#postgresql added as a dependency\n",
      ":: resolving dependencies :: org.apache.spark#spark-submit-parent-f1accb44-bdbd-4b5d-8d85-a43abf3e1257;1.0\n",
      "\tconfs: [default]\n",
      "\tfound org.apache.iceberg#iceberg-spark-runtime-3.5_2.12;1.9.2 in central\n",
      "\tfound org.projectnessie.nessie-integrations#nessie-spark-extensions-3.5_2.12;0.104.3 in central\n",
      "\tfound org.apache.iceberg#iceberg-aws-bundle;1.9.2 in central\n",
      "\tfound org.postgresql#postgresql;42.5.0 in central\n",
      "\tfound org.checkerframework#checker-qual;3.5.0 in central\n",
      "downloading https://repo1.maven.org/maven2/org/apache/iceberg/iceberg-spark-runtime-3.5_2.12/1.9.2/iceberg-spark-runtime-3.5_2.12-1.9.2.jar ...\n",
      "\t[SUCCESSFUL ] org.apache.iceberg#iceberg-spark-runtime-3.5_2.12;1.9.2!iceberg-spark-runtime-3.5_2.12.jar (43155ms)\n",
      "downloading https://repo1.maven.org/maven2/org/projectnessie/nessie-integrations/nessie-spark-extensions-3.5_2.12/0.104.3/nessie-spark-extensions-3.5_2.12-0.104.3.jar ...\n",
      "\t[SUCCESSFUL ] org.projectnessie.nessie-integrations#nessie-spark-extensions-3.5_2.12;0.104.3!nessie-spark-extensions-3.5_2.12.jar (3510ms)\n",
      "downloading https://repo1.maven.org/maven2/org/apache/iceberg/iceberg-aws-bundle/1.9.2/iceberg-aws-bundle-1.9.2.jar ...\n",
      "\t[SUCCESSFUL ] org.apache.iceberg#iceberg-aws-bundle;1.9.2!iceberg-aws-bundle.jar (82293ms)\n",
      "downloading https://repo1.maven.org/maven2/org/postgresql/postgresql/42.5.0/postgresql-42.5.0.jar ...\n",
      "\t[SUCCESSFUL ] org.postgresql#postgresql;42.5.0!postgresql.jar (5107ms)\n",
      "downloading https://repo1.maven.org/maven2/org/checkerframework/checker-qual/3.5.0/checker-qual-3.5.0.jar ...\n",
      "\t[SUCCESSFUL ] org.checkerframework#checker-qual;3.5.0!checker-qual.jar (1440ms)\n",
      ":: resolution report :: resolve 4953ms :: artifacts dl 135525ms\n",
      "\t:: modules in use:\n",
      "\torg.apache.iceberg#iceberg-aws-bundle;1.9.2 from central in [default]\n",
      "\torg.apache.iceberg#iceberg-spark-runtime-3.5_2.12;1.9.2 from central in [default]\n",
      "\torg.checkerframework#checker-qual;3.5.0 from central in [default]\n",
      "\torg.postgresql#postgresql;42.5.0 from central in [default]\n",
      "\torg.projectnessie.nessie-integrations#nessie-spark-extensions-3.5_2.12;0.104.3 from central in [default]\n",
      "\t---------------------------------------------------------------------\n",
      "\t|                  |            modules            ||   artifacts   |\n",
      "\t|       conf       | number| search|dwnlded|evicted|| number|dwnlded|\n",
      "\t---------------------------------------------------------------------\n",
      "\t|      default     |   5   |   5   |   5   |   0   ||   5   |   5   |\n",
      "\t---------------------------------------------------------------------\n",
      ":: retrieving :: org.apache.spark#spark-submit-parent-f1accb44-bdbd-4b5d-8d85-a43abf3e1257\n",
      "\tconfs: [default]\n",
      "\t5 artifacts copied, 0 already retrieved (106786kB/176ms)\n",
      "25/09/04 08:20:03 WARN NativeCodeLoader: Unable to load native-hadoop library for your platform... using builtin-java classes where applicable\n",
      "Setting default log level to \"WARN\".\n",
      "To adjust logging level use sc.setLogLevel(newLevel). For SparkR, use setLogLevel(newLevel).\n"
     ]
    },
    {
     "name": "stdout",
     "output_type": "stream",
     "text": [
      "Spark Running\n"
     ]
    }
   ],
   "source": [
    "conf = (\n",
    "    pyspark.SparkConf()\n",
    "        .setAppName('app_name')\n",
    "        .set('spark.jars.packages', \",\".join([\n",
    "            'org.apache.iceberg:iceberg-spark-runtime-3.5_2.12:1.9.2',\n",
    "            'org.projectnessie.nessie-integrations:nessie-spark-extensions-3.5_2.12:0.104.3',\n",
    "            'org.apache.iceberg:iceberg-aws-bundle:1.9.2',\n",
    "            'org.postgresql:postgresql:42.5.0'\n",
    "            ]))\n",
    "        .set('spark.sql.extensions', \",\".join([\n",
    "            'org.apache.iceberg.spark.extensions.IcebergSparkSessionExtensions',\n",
    "            'org.projectnessie.spark.extensions.NessieSparkSessionExtensions'\n",
    "        ]))\n",
    "        .set('spark.sql.catalog.nessie', 'org.apache.iceberg.spark.SparkCatalog')\n",
    "        .set('spark.sql.catalog.nessie.uri', NESSIE_URI)\n",
    "        .set('spark.sql.catalog.nessie.client-api-version', '2')\n",
    "        .set('spark.sql.catalog.nessie.ref', 'main')\n",
    "        .set('spark.sql.catalog.nessie.authentication.type', 'NONE')\n",
    "        .set('spark.sql.catalog.nessie.catalog-impl', 'org.apache.iceberg.nessie.NessieCatalog')\n",
    "        .set('spark.sql.catalog.nessie.s3.endpoint', AWS_S3_ENDPOINT)\n",
    "        .set('spark.sql.catalog.nessie.warehouse', WAREHOUSE)\n",
    "        .set('spark.sql.catalog.nessie.s3.path-style-access', 'true')\n",
    "        .set('spark.sql.catalog.nessie.s3.access-key-id', AWS_ACCESS_KEY_ID)\n",
    "        .set('spark.sql.catalog.nessie.s3.secret-access-key', AWS_SECRET_ACCESS_KEY)\n",
    "        .set('spark.sql.catalog.nessie.io-impl', 'org.apache.iceberg.aws.s3.S3FileIO')\n",
    "        .set(\"spark.sql.iceberg.merge-schema\", \"true\")\n",
    "        .set(\"spark.executor.memory\", \"2g\")\n",
    "        .set(\"spark.driver.memory\", \"2g\")\n",
    "        .set(\"spark.executor.cores\", \"2\")\n",
    ")\n",
    "\n",
    "# Start Spark Session\n",
    "spark = SparkSession.builder.master(\"spark://spark-master:7077\").config(conf=conf).getOrCreate()\n",
    "spark.sparkContext.setLogLevel(\"ERROR\")\n",
    "\n",
    "print(\"Spark Running\")"
   ]
  },
  {
   "cell_type": "markdown",
   "id": "1fea258d-9d8d-41c6-9e1b-70f66a6c9c6c",
   "metadata": {
    "jp-MarkdownHeadingCollapsed": true
   },
   "source": [
    "# DDL"
   ]
  },
  {
   "cell_type": "code",
   "execution_count": 5,
   "id": "35cd6dde-687f-4f96-a7af-76d29ea14b7d",
   "metadata": {},
   "outputs": [
    {
     "data": {
      "text/plain": [
       "DataFrame[]"
      ]
     },
     "execution_count": 5,
     "metadata": {},
     "output_type": "execute_result"
    }
   ],
   "source": [
    "spark.sql(\"USE REFERENCE main IN nessie\")\n",
    "spark.sql(\"CREATE DATABASE nessie.bronze\")\n",
    "spark.sql(\"CREATE DATABASE nessie.silver\")\n",
    "spark.sql(\"CREATE DATABASE nessie.gold\")\n",
    "\n",
    "spark.sql(\"\"\"\n",
    "    CREATE TABLE nessie.bronze.customer (\n",
    "        id BIGINT,\n",
    "        name STRING,\n",
    "        sex STRING,\n",
    "        mail STRING,\n",
    "        birthdate DATE,\n",
    "        login_username STRING,\n",
    "        login_password STRING,\n",
    "        created_at DATE,\n",
    "        updated_at DATE,\n",
    "        _ingested_at TIMESTAMP,\n",
    "        _batch_id STRING,\n",
    "        _is_deleted BOOLEAN\n",
    "    )\n",
    "    USING iceberg\n",
    "    TBLPROPERTIES ('write.spark.accept-any-schema'='true')\n",
    "\"\"\")\n",
    "\n",
    "spark.sql(\"\"\"\n",
    "    CREATE TABLE nessie.bronze.location (\n",
    "        id STRING,\n",
    "        street_address STRING,\n",
    "        city STRING,\n",
    "        state STRING,\n",
    "        zipcode STRING,\n",
    "        country STRING,\n",
    "        created_at DATE,\n",
    "        updated_at DATE,\n",
    "        _ingested_at TIMESTAMP,\n",
    "        _batch_id STRING,\n",
    "        _is_deleted BOOLEAN\n",
    "    )\n",
    "    USING iceberg\n",
    "    TBLPROPERTIES ('write.spark.accept-any-schema'='true')\n",
    "\"\"\")\n",
    "\n",
    "spark.sql(\"\"\"\n",
    "    CREATE TABLE nessie.bronze.customer_location (\n",
    "        id BIGINT,\n",
    "        customer_id BIGINT,\n",
    "        location_id STRING,\n",
    "        created_at DATE,\n",
    "        updated_at DATE,\n",
    "        _ingested_at TIMESTAMP,\n",
    "        _batch_id STRING,\n",
    "        _is_deleted BOOLEAN\n",
    "    )\n",
    "    USING iceberg\n",
    "    TBLPROPERTIES ('write.spark.accept-any-schema'='true')\n",
    "\"\"\")\n",
    "\n",
    "spark.sql(\"\"\"\n",
    "    CREATE TABLE nessie.bronze.customer_phone (\n",
    "        id BIGINT,\n",
    "        customer_id BIGINT,\n",
    "        phone_number STRING,\n",
    "        created_at DATE,\n",
    "        updated_at DATE,\n",
    "        _ingested_at TIMESTAMP,\n",
    "        _batch_id STRING,\n",
    "        _is_deleted BOOLEAN\n",
    "    )\n",
    "    USING iceberg\n",
    "    TBLPROPERTIES ('write.spark.accept-any-schema'='true')\n",
    "\"\"\")\n",
    "\n",
    "spark.sql(\"\"\"\n",
    "    CREATE TABLE nessie.bronze.shadow_product (\n",
    "        id STRING,\n",
    "        product_id STRING,\n",
    "        product_title STRING,\n",
    "        currency STRING,\n",
    "        price DECIMAL(10, 2),\n",
    "        created_at DATE,\n",
    "        updated_at DATE,\n",
    "        _ingested_at TIMESTAMP,\n",
    "        _batch_id STRING,\n",
    "        _is_deleted BOOLEAN\n",
    "    )\n",
    "    USING iceberg\n",
    "    TBLPROPERTIES ('write.spark.accept-any-schema'='true')\n",
    "\"\"\")\n",
    "\n",
    "spark.sql(\"\"\"\n",
    "    CREATE TABLE nessie.bronze.category (\n",
    "        id BIGINT,\n",
    "        category_name STRING,\n",
    "        created_at DATE,\n",
    "        updated_at DATE,\n",
    "        _ingested_at TIMESTAMP,\n",
    "        _batch_id STRING,\n",
    "        _is_deleted BOOLEAN\n",
    "    )\n",
    "    USING iceberg\n",
    "    TBLPROPERTIES ('write.spark.accept-any-schema'='true')\n",
    "\"\"\")\n",
    "\n",
    "spark.sql(\"\"\"\n",
    "    CREATE TABLE nessie.bronze.product_category (\n",
    "        id BIGINT,\n",
    "        product_id STRING,\n",
    "        category_id BIGINT,\n",
    "        created_at DATE,\n",
    "        updated_at DATE,\n",
    "        _ingested_at TIMESTAMP,\n",
    "        _batch_id STRING,\n",
    "        _is_deleted BOOLEAN\n",
    "    )\n",
    "    USING iceberg\n",
    "    TBLPROPERTIES ('write.spark.accept-any-schema'='true')\n",
    "\"\"\")\n",
    "\n",
    "spark.sql(\"\"\"\n",
    "    CREATE TABLE nessie.bronze.review (\n",
    "        id STRING,\n",
    "        customer_id BIGINT,\n",
    "        product_id STRING,\n",
    "        star_rating STRING,\n",
    "        helpful_votes INT,\n",
    "        total_votes INT,\n",
    "        marketplace STRING,\n",
    "        verified_purchase STRING,\n",
    "        review_headline STRING,\n",
    "        review_body STRING,\n",
    "        created_at DATE,\n",
    "        updated_at DATE,\n",
    "        _ingested_at TIMESTAMP,\n",
    "        _batch_id STRING,\n",
    "        _is_deleted BOOLEAN\n",
    "    )\n",
    "    USING iceberg\n",
    "    TBLPROPERTIES ('write.spark.accept-any-schema'='true')\n",
    "\"\"\")"
   ]
  },
  {
   "cell_type": "markdown",
   "id": "3d73620f-4891-49e3-9120-e09758575976",
   "metadata": {},
   "source": [
    "# ETL processing"
   ]
  },
  {
   "cell_type": "code",
   "execution_count": 11,
   "id": "e3719543-92ac-4a9a-b87b-5a5c02ecb16f",
   "metadata": {},
   "outputs": [
    {
     "data": {
      "text/plain": [
       "DataFrame[refType: string, name: string, hash: string]"
      ]
     },
     "execution_count": 11,
     "metadata": {},
     "output_type": "execute_result"
    }
   ],
   "source": [
    "ts = datetime.now(timezone(timedelta(hours=7))).replace(tzinfo=None).replace(microsecond=0)\n",
    "ts = datetime(2010, 1, 1, 1, 1, 1)\n",
    "\n",
    "table_names = [row[\"tableName\"] for row in spark.sql(\"SHOW TABLES IN nessie.bronze\").select(\"tableName\").collect()]\n",
    "today = str(ts.date())\n",
    "\n",
    "etl_processing_branch_name = f\"feat/etl-processing-{ts.strftime('%Y-%m-%d-%H-%M-%S')}\"\n",
    "spark.sql(f\"\"\"\n",
    "    CREATE BRANCH\n",
    "    IF NOT EXISTS {etl_processing_branch_name}\n",
    "    IN nessie\n",
    "    FROM main\n",
    "\"\"\")"
   ]
  },
  {
   "cell_type": "markdown",
   "id": "3b9e8bb3-9a84-4e69-8779-5f570f56d71c",
   "metadata": {
    "jp-MarkdownHeadingCollapsed": true
   },
   "source": [
    "## Bronze Layer"
   ]
  },
  {
   "cell_type": "markdown",
   "id": "5b1d9e70-c6b6-4ae3-8a70-339df0fe0413",
   "metadata": {},
   "source": [
    "Create new branch for etl:\n",
    "\n",
    "    - If success, merge branch\n",
    "    - If fail, nothing change"
   ]
  },
  {
   "cell_type": "code",
   "execution_count": 12,
   "id": "63644e5c-f72c-476f-8ebe-c6570021295c",
   "metadata": {},
   "outputs": [
    {
     "name": "stdout",
     "output_type": "stream",
     "text": [
      "+-------+---------------------------------------+----------------------------------------------------------------+\n",
      "|refType|name                                   |hash                                                            |\n",
      "+-------+---------------------------------------+----------------------------------------------------------------+\n",
      "|Branch |feat/bronze-layer-2010-01-01-01-01-01  |75ef377c8f6e6eab2f130210679b25982671e2843d15e212ff72d084e2f2f055|\n",
      "|Branch |feat/etl-processing-2010-01-01-01-01-01|75ef377c8f6e6eab2f130210679b25982671e2843d15e212ff72d084e2f2f055|\n",
      "|Branch |main                                   |75ef377c8f6e6eab2f130210679b25982671e2843d15e212ff72d084e2f2f055|\n",
      "+-------+---------------------------------------+----------------------------------------------------------------+\n",
      "\n"
     ]
    }
   ],
   "source": [
    "bronze_layer_branch_name = f\"feat/bronze-layer-{ts.strftime('%Y-%m-%d-%H-%M-%S')}\"\n",
    "spark.sql(f\"\"\"\n",
    "    CREATE BRANCH\n",
    "    IF NOT EXISTS {bronze_layer_branch_name}\n",
    "    IN nessie\n",
    "    FROM {etl_processing_branch_name}\n",
    "\"\"\")\n",
    "\n",
    "spark.sql(f\"USE REFERENCE {bronze_layer_branch_name} IN nessie;\")\n",
    "spark.sql(\"LIST REFERENCES IN nessie\").show(truncate=False)"
   ]
  },
  {
   "cell_type": "code",
   "execution_count": 13,
   "id": "a282e7a6-d950-4a10-b72f-d7e41866d1ec",
   "metadata": {},
   "outputs": [
    {
     "name": "stdout",
     "output_type": "stream",
     "text": [
      "max_updated_at: 1999-01-01\n"
     ]
    },
    {
     "name": "stderr",
     "output_type": "stream",
     "text": [
      "                                                                                "
     ]
    },
    {
     "name": "stdout",
     "output_type": "stream",
     "text": [
      "lower: 2009-12-13, upper: 2009-12-13\n"
     ]
    },
    {
     "name": "stderr",
     "output_type": "stream",
     "text": [
      "                                                                                "
     ]
    },
    {
     "name": "stdout",
     "output_type": "stream",
     "text": [
      "table_name: category, success: True\n",
      "max_updated_at: 1999-01-01\n"
     ]
    },
    {
     "name": "stderr",
     "output_type": "stream",
     "text": [
      "                                                                                "
     ]
    },
    {
     "name": "stdout",
     "output_type": "stream",
     "text": [
      "lower: 2009-12-13, upper: 2009-12-29\n"
     ]
    },
    {
     "name": "stderr",
     "output_type": "stream",
     "text": [
      "                                                                                "
     ]
    },
    {
     "name": "stdout",
     "output_type": "stream",
     "text": [
      "table_name: customer, success: True\n",
      "max_updated_at: 1999-01-01\n"
     ]
    },
    {
     "name": "stderr",
     "output_type": "stream",
     "text": [
      "                                                                                "
     ]
    },
    {
     "name": "stdout",
     "output_type": "stream",
     "text": [
      "lower: 2009-12-13, upper: 2009-12-29\n"
     ]
    },
    {
     "name": "stderr",
     "output_type": "stream",
     "text": [
      "                                                                                "
     ]
    },
    {
     "name": "stdout",
     "output_type": "stream",
     "text": [
      "table_name: customer_location, success: True\n",
      "max_updated_at: 1999-01-01\n"
     ]
    },
    {
     "name": "stderr",
     "output_type": "stream",
     "text": [
      "                                                                                "
     ]
    },
    {
     "name": "stdout",
     "output_type": "stream",
     "text": [
      "lower: 2009-12-13, upper: 2009-12-29\n"
     ]
    },
    {
     "name": "stderr",
     "output_type": "stream",
     "text": [
      "                                                                                "
     ]
    },
    {
     "name": "stdout",
     "output_type": "stream",
     "text": [
      "table_name: customer_phone, success: True\n",
      "max_updated_at: 1999-01-01\n"
     ]
    },
    {
     "name": "stderr",
     "output_type": "stream",
     "text": [
      "                                                                                "
     ]
    },
    {
     "name": "stdout",
     "output_type": "stream",
     "text": [
      "lower: 2009-12-13, upper: 2009-12-29\n",
      "table_name: location, success: False\n",
      "max_updated_at: 1999-01-01\n"
     ]
    },
    {
     "name": "stderr",
     "output_type": "stream",
     "text": [
      "                                                                                "
     ]
    },
    {
     "name": "stdout",
     "output_type": "stream",
     "text": [
      "lower: 2009-12-13, upper: 2009-12-17\n"
     ]
    },
    {
     "name": "stderr",
     "output_type": "stream",
     "text": [
      "                                                                                "
     ]
    },
    {
     "name": "stdout",
     "output_type": "stream",
     "text": [
      "table_name: product_category, success: True\n",
      "max_updated_at: 1999-01-01\n"
     ]
    },
    {
     "name": "stderr",
     "output_type": "stream",
     "text": [
      "[Stage 35:>                                                         (0 + 1) / 1]"
     ]
    },
    {
     "name": "stdout",
     "output_type": "stream",
     "text": [
      "lower: 2009-12-13, upper: 2009-12-29\n"
     ]
    },
    {
     "name": "stderr",
     "output_type": "stream",
     "text": [
      "                                                                                "
     ]
    },
    {
     "name": "stdout",
     "output_type": "stream",
     "text": [
      "table_name: review, success: True\n",
      "max_updated_at: 1999-01-01\n"
     ]
    },
    {
     "name": "stderr",
     "output_type": "stream",
     "text": [
      "                                                                                "
     ]
    },
    {
     "name": "stdout",
     "output_type": "stream",
     "text": [
      "lower: 2009-12-13, upper: 2009-12-17\n"
     ]
    },
    {
     "name": "stderr",
     "output_type": "stream",
     "text": [
      "                                                                                "
     ]
    },
    {
     "name": "stdout",
     "output_type": "stream",
     "text": [
      "table_name: shadow_product, success: True\n"
     ]
    }
   ],
   "source": [
    "def ingest(table_name: str, today: date) -> bool:\n",
    "    try:\n",
    "        # Lấy thời gian gần nhất mà bronze layer được update\n",
    "        max_updated_at = spark.sql(f\"SELECT max(updated_at) as max_updated_at FROM nessie.bronze.{table_name}\").collect()[0][\"max_updated_at\"]\n",
    "        max_updated_at = \"1999-01-01\" if max_updated_at is None else str(max_updated_at)\n",
    "        print(f\"max_updated_at: {max_updated_at}\")\n",
    "        \n",
    "        query = f\"\"\"\n",
    "        (\n",
    "            SELECT \n",
    "                min(updated_at) AS min_date, \n",
    "                max(updated_at) AS max_date \n",
    "            FROM {table_name} \n",
    "            WHERE updated_at > '{max_updated_at}' AND updated_at <= '{today}'\n",
    "        ) tmp\n",
    "        \"\"\"\n",
    "        bounds = spark.read \\\n",
    "            .format(\"jdbc\") \\\n",
    "            .option(\"url\", \"jdbc:postgresql://postgres:5432/oltp\") \\\n",
    "            .option(\"dbtable\", query) \\\n",
    "            .option(\"user\", \"postgres\") \\\n",
    "            .option(\"password\", \"postgres\") \\\n",
    "            .option(\"driver\", \"org.postgresql.Driver\") \\\n",
    "            .load() \\\n",
    "            .collect()[0]\n",
    "        \n",
    "        lower, upper = bounds[\"min_date\"], bounds[\"max_date\"]\n",
    "        print(f\"lower: {lower}, upper: {upper}\")\n",
    "        \n",
    "        # Chỉ lấy những record ở source có giá trị updated_at >= giá trị max(updated_at) ở bronze\n",
    "        query = f\"\"\"\n",
    "        (\n",
    "            SELECT * \n",
    "            FROM {table_name} \n",
    "            WHERE updated_at > '{max_updated_at}' AND updated_at <= '{today}'\n",
    "        ) AS {table_name}\n",
    "        \"\"\"\n",
    "        df = (spark.read\n",
    "            .format(\"jdbc\")\n",
    "            .option(\"url\", \"jdbc:postgresql://postgres:5432/oltp\")\n",
    "            .option(\"dbtable\", query)\n",
    "            .option(\"user\", \"postgres\")\n",
    "            .option(\"password\", \"postgres\")\n",
    "            .option(\"driver\", \"org.postgresql.Driver\")\n",
    "            .option(\"partitionColumn\", \"id\")\n",
    "            .option(\"lowerBound\", lower)\n",
    "            .option(\"upperBound\", upper)\n",
    "            .option(\"numPartitions\", \"8\")\n",
    "            .option(\"partitionColumn\", \"updated_at\")\n",
    "            .option(\"lowerBound\", lower)\n",
    "            .option(\"upperBound\", upper)\n",
    "            .option(\"numPartitions\", \"8\")\n",
    "            .option(\"fetchsize\", \"10000\")\n",
    "            .load()\n",
    "        )\n",
    "        \n",
    "        # Thêm các cột cần thiết để theo dõi\n",
    "        batch_id = str(uuid.uuid4())\n",
    "        df_bronze = (df\n",
    "          .withColumn(\"_ingested_at\", F.lit(ts))\n",
    "          .withColumn(\"_batch_id\", F.lit(batch_id))\n",
    "          .withColumn(\"_is_deleted\", F.lit(False))\n",
    "        )\n",
    "        \n",
    "        # Ghi vào Iceberg\n",
    "        df_bronze.writeTo(f\"nessie.bronze.{table_name}\") \\\n",
    "            .option(\"mergeSchema\", \"true\") \\\n",
    "            .append()\n",
    "    except Exception as e:\n",
    "        print(e)\n",
    "        return False\n",
    "    return True\n",
    "\n",
    "\n",
    "success = True\n",
    "for table_name in table_names:\n",
    "    success = True if ingest(table_name=table_name, today=today) else False\n",
    "    print(f\"table_name: {table_name}, success: {success}\")"
   ]
  },
  {
   "cell_type": "code",
   "execution_count": 14,
   "id": "9b400ca2-c751-4a95-812b-f0481bf5e540",
   "metadata": {},
   "outputs": [
    {
     "data": {
      "text/plain": [
       "DataFrame[status: string]"
      ]
     },
     "execution_count": 14,
     "metadata": {},
     "output_type": "execute_result"
    }
   ],
   "source": [
    "spark.sql(\"USE REFERENCE main IN nessie\")\n",
    "spark.sql(f\"MERGE BRANCH {bronze_layer_branch_name} INTO {etl_processing_branch_name} IN nessie\")\n",
    "spark.sql(f\"DROP BRANCH {bronze_layer_branch_name} IN nessie\")"
   ]
  },
  {
   "cell_type": "markdown",
   "id": "5bdb66d0-e424-4a77-8c0f-2cdf3281521d",
   "metadata": {},
   "source": [
    "## Silver Layer"
   ]
  },
  {
   "cell_type": "code",
   "execution_count": 15,
   "id": "2cc2a8a0-202b-4711-985c-dbcb10285d9e",
   "metadata": {},
   "outputs": [
    {
     "name": "stdout",
     "output_type": "stream",
     "text": [
      "+-------+---------------------------------------+----------------------------------------------------------------+\n",
      "|refType|name                                   |hash                                                            |\n",
      "+-------+---------------------------------------+----------------------------------------------------------------+\n",
      "|Branch |feat/etl-processing-2010-01-01-01-01-01|f13b382fc7e7b250bfefd261a77b6344583f2c4becc18480943f441f6c605580|\n",
      "|Branch |feat/silver-layer-2010-01-01-01-01-01  |f13b382fc7e7b250bfefd261a77b6344583f2c4becc18480943f441f6c605580|\n",
      "|Branch |main                                   |75ef377c8f6e6eab2f130210679b25982671e2843d15e212ff72d084e2f2f055|\n",
      "+-------+---------------------------------------+----------------------------------------------------------------+\n",
      "\n"
     ]
    }
   ],
   "source": [
    "silver_layer_branch_name = f\"feat/silver-layer-{ts.strftime('%Y-%m-%d-%H-%M-%S')}\"\n",
    "spark.sql(f\"\"\"\n",
    "    CREATE BRANCH\n",
    "    IF NOT EXISTS {silver_layer_branch_name}\n",
    "    IN nessie\n",
    "    FROM {etl_processing_branch_name};\n",
    "\"\"\")\n",
    "\n",
    "spark.sql(f\"USE REFERENCE {silver_layer_branch_name} IN nessie;\")\n",
    "spark.sql(\"LIST REFERENCES IN nessie\").show(truncate=False)"
   ]
  },
  {
   "cell_type": "code",
   "execution_count": 37,
   "id": "d1a47e84-55c9-4077-a6c0-dd6b489b3c7b",
   "metadata": {},
   "outputs": [],
   "source": [
    "customer = spark.table(\"nessie.bronze.customer\")\n",
    "location = spark.table(\"nessie.bronze.location\")\n",
    "customer_location = spark.table(\"nessie.bronze.customer_location\")\n",
    "customer_phone = spark.table(\"nessie.bronze.customer_phone\")\n",
    "shadow_product = spark.table(\"nessie.bronze.shadow_product\")\n",
    "category = spark.table(\"nessie.bronze.category\")\n",
    "review = spark.table(\"nessie.bronze.review\")\n",
    "product_category = spark.table(\"nessie.bronze.product_category\")"
   ]
  },
  {
   "cell_type": "markdown",
   "id": "3c26438d-a5a3-4fa9-9fe8-91b0d9966418",
   "metadata": {
    "jp-MarkdownHeadingCollapsed": true
   },
   "source": [
    "### Schema validation"
   ]
  },
  {
   "cell_type": "markdown",
   "id": "d8e32de2-6d3d-4b3c-ba8f-a89f768e3688",
   "metadata": {
    "jp-MarkdownHeadingCollapsed": true
   },
   "source": [
    "#### customer"
   ]
  },
  {
   "cell_type": "markdown",
   "id": "3d2cdb2a-00a9-47b5-80b0-b1e00139a8c0",
   "metadata": {
    "jp-MarkdownHeadingCollapsed": true
   },
   "source": [
    "#### location"
   ]
  },
  {
   "cell_type": "markdown",
   "id": "661759ae-83c8-4ec6-9617-9985a5abe597",
   "metadata": {
    "jp-MarkdownHeadingCollapsed": true
   },
   "source": [
    "#### customer_location"
   ]
  },
  {
   "cell_type": "markdown",
   "id": "c809469c-02a5-4a8e-b276-f47b20fcb9f8",
   "metadata": {
    "jp-MarkdownHeadingCollapsed": true
   },
   "source": [
    "#### customer_phone"
   ]
  },
  {
   "cell_type": "markdown",
   "id": "246e7424-10df-4931-8d48-2213264f3aa7",
   "metadata": {
    "jp-MarkdownHeadingCollapsed": true
   },
   "source": [
    "#### shadow_product"
   ]
  },
  {
   "cell_type": "markdown",
   "id": "2bf78748-19c9-4c4c-a17c-cea6d344a23d",
   "metadata": {
    "jp-MarkdownHeadingCollapsed": true
   },
   "source": [
    "#### category"
   ]
  },
  {
   "cell_type": "markdown",
   "id": "b1c74732-c9e5-4715-8c88-b781968a6a01",
   "metadata": {
    "jp-MarkdownHeadingCollapsed": true
   },
   "source": [
    "#### review"
   ]
  },
  {
   "cell_type": "markdown",
   "id": "3c05171c-c401-48cd-ab74-61dcde5e0a29",
   "metadata": {
    "jp-MarkdownHeadingCollapsed": true
   },
   "source": [
    "#### product_category"
   ]
  },
  {
   "cell_type": "markdown",
   "id": "d0083e7b-4d83-4c62-ad87-20fe597cb926",
   "metadata": {
    "jp-MarkdownHeadingCollapsed": true
   },
   "source": [
    "### Data types validation"
   ]
  },
  {
   "cell_type": "markdown",
   "id": "d3ff5298-2116-4edb-ab5a-6bddddcf436f",
   "metadata": {
    "jp-MarkdownHeadingCollapsed": true
   },
   "source": [
    "#### customer"
   ]
  },
  {
   "cell_type": "markdown",
   "id": "453f0d1b-00f9-4c9c-8092-f1ae799a27b9",
   "metadata": {
    "jp-MarkdownHeadingCollapsed": true
   },
   "source": [
    "#### location"
   ]
  },
  {
   "cell_type": "markdown",
   "id": "9b34cbe8-c83b-432c-988a-bf3d0a68416e",
   "metadata": {
    "jp-MarkdownHeadingCollapsed": true
   },
   "source": [
    "#### customer_location"
   ]
  },
  {
   "cell_type": "markdown",
   "id": "0559da6d-7382-41a8-861d-9e7e8e1e819b",
   "metadata": {
    "jp-MarkdownHeadingCollapsed": true
   },
   "source": [
    "#### customer_phone"
   ]
  },
  {
   "cell_type": "markdown",
   "id": "c6581c97-dae2-4e5c-bc1b-67ef55e76a23",
   "metadata": {
    "jp-MarkdownHeadingCollapsed": true
   },
   "source": [
    "#### shadow_product"
   ]
  },
  {
   "cell_type": "markdown",
   "id": "ba49d832-3760-4e02-a4c4-aee66037f8dc",
   "metadata": {
    "jp-MarkdownHeadingCollapsed": true
   },
   "source": [
    "#### category"
   ]
  },
  {
   "cell_type": "markdown",
   "id": "92b32b3e-81b1-43a2-866a-7d30089beba9",
   "metadata": {
    "jp-MarkdownHeadingCollapsed": true
   },
   "source": [
    "#### review"
   ]
  },
  {
   "cell_type": "markdown",
   "id": "a03d81c0-0fe8-425a-ab89-390ccec1d7a6",
   "metadata": {
    "jp-MarkdownHeadingCollapsed": true
   },
   "source": [
    "#### product_category"
   ]
  },
  {
   "cell_type": "markdown",
   "id": "b6b90234-7347-479c-984f-8acefb83aceb",
   "metadata": {
    "jp-MarkdownHeadingCollapsed": true
   },
   "source": [
    "### Deduplicate"
   ]
  },
  {
   "cell_type": "markdown",
   "id": "a7ed9dae-983c-48e8-9ddc-3500c457f56e",
   "metadata": {
    "jp-MarkdownHeadingCollapsed": true
   },
   "source": [
    "#### customer"
   ]
  },
  {
   "cell_type": "code",
   "execution_count": 38,
   "id": "e88e1298-0db2-4093-b3f9-ed3975abd309",
   "metadata": {},
   "outputs": [
    {
     "name": "stdout",
     "output_type": "stream",
     "text": [
      "Num of records before deduplicate: 575\n",
      "Num of records after deduplicate: 575\n"
     ]
    }
   ],
   "source": [
    "print(f\"Num of records before deduplicate: {customer.count()}\")\n",
    "customer = customer.drop_duplicates()\n",
    "print(f\"Num of records after deduplicate: {customer.count()}\")"
   ]
  },
  {
   "cell_type": "markdown",
   "id": "52213b6f-fcba-45d3-8b41-a48587ae6dfc",
   "metadata": {
    "jp-MarkdownHeadingCollapsed": true
   },
   "source": [
    "#### location"
   ]
  },
  {
   "cell_type": "code",
   "execution_count": null,
   "id": "6fd71f9f-9cce-472e-82c9-a81fb314c137",
   "metadata": {},
   "outputs": [],
   "source": [
    "print(f\"Num of records before deduplicate: {location.count()}\")\n",
    "location = location.drop_duplicates()\n",
    "print(f\"Num of records after deduplicate: {location.count()}\")"
   ]
  },
  {
   "cell_type": "markdown",
   "id": "f2bc33ee-695a-475f-ab52-f64f070e274a",
   "metadata": {
    "jp-MarkdownHeadingCollapsed": true
   },
   "source": [
    "#### customer_location"
   ]
  },
  {
   "cell_type": "code",
   "execution_count": null,
   "id": "7c764c0c-4389-4e66-97e1-242ae171e13a",
   "metadata": {},
   "outputs": [],
   "source": [
    "print(f\"Num of records before deduplicate: {customer_location.count()}\")\n",
    "customer_location = customer_location.drop_duplicates()\n",
    "print(f\"Num of records after deduplicate: {customer_location.count()}\")"
   ]
  },
  {
   "cell_type": "markdown",
   "id": "2e3af6e8-5ea3-4af4-8f3f-9206c4bdbfec",
   "metadata": {
    "jp-MarkdownHeadingCollapsed": true
   },
   "source": [
    "#### customer_phone"
   ]
  },
  {
   "cell_type": "code",
   "execution_count": null,
   "id": "ebe2a62a-5689-401d-b5f2-1030d4eecc8a",
   "metadata": {},
   "outputs": [],
   "source": [
    "print(f\"Num of records before deduplicate: {customer_phone.count()}\")\n",
    "customer_phone = customer_phone.drop_duplicates()\n",
    "print(f\"Num of records after deduplicate: {customer_phone.count()}\")"
   ]
  },
  {
   "cell_type": "markdown",
   "id": "87aaf51d-29fe-43fc-bf01-ca72bfc65efc",
   "metadata": {
    "jp-MarkdownHeadingCollapsed": true
   },
   "source": [
    "#### shadow_product"
   ]
  },
  {
   "cell_type": "code",
   "execution_count": null,
   "id": "64d2e2d0-49fe-40ce-9cfd-45cbb86d28ae",
   "metadata": {},
   "outputs": [],
   "source": [
    "print(f\"Num of records before deduplicate: {shadow_product.count()}\")\n",
    "shadow_product = shadow_product.drop_duplicates()\n",
    "print(f\"Num of records after deduplicate: {shadow_product.count()}\")"
   ]
  },
  {
   "cell_type": "markdown",
   "id": "4344684e-2b65-4fbc-9311-4f0beaaf67b3",
   "metadata": {
    "jp-MarkdownHeadingCollapsed": true
   },
   "source": [
    "#### category"
   ]
  },
  {
   "cell_type": "code",
   "execution_count": null,
   "id": "90ee4fe3-c208-43fb-844f-f1dcda8119a6",
   "metadata": {},
   "outputs": [],
   "source": [
    "print(f\"Num of records before deduplicate: {category.count()}\")\n",
    "category = category.drop_duplicates()\n",
    "print(f\"Num of records after deduplicate: {category.count()}\")"
   ]
  },
  {
   "cell_type": "markdown",
   "id": "e518734a-316e-49a9-ba25-389e77fa70ff",
   "metadata": {
    "jp-MarkdownHeadingCollapsed": true
   },
   "source": [
    "#### review"
   ]
  },
  {
   "cell_type": "code",
   "execution_count": null,
   "id": "afe6ba1f-e8dd-4b98-9d13-97ea1cd3e39d",
   "metadata": {},
   "outputs": [],
   "source": [
    "print(f\"Num of records before deduplicate: {review.count()}\")\n",
    "review = review.drop_duplicates()\n",
    "print(f\"Num of records after deduplicate: {review.count()}\")"
   ]
  },
  {
   "cell_type": "markdown",
   "id": "3dbcdfe9-f9a2-4a26-b688-eced92bd9058",
   "metadata": {
    "jp-MarkdownHeadingCollapsed": true
   },
   "source": [
    "#### product_category"
   ]
  },
  {
   "cell_type": "code",
   "execution_count": 34,
   "id": "4ba668bf-9d24-4f16-bf1e-c3aa1bb5edff",
   "metadata": {},
   "outputs": [
    {
     "name": "stdout",
     "output_type": "stream",
     "text": [
      "Num of records before deduplicate: 575\n"
     ]
    },
    {
     "name": "stderr",
     "output_type": "stream",
     "text": [
      "[Stage 67:>                                                         (0 + 1) / 1]"
     ]
    },
    {
     "name": "stdout",
     "output_type": "stream",
     "text": [
      "Num of records after deduplicate: 575\n"
     ]
    },
    {
     "name": "stderr",
     "output_type": "stream",
     "text": [
      "                                                                                "
     ]
    }
   ],
   "source": [
    "print(f\"Num of records before deduplicate: {product_category.count()}\")\n",
    "product_category = product_category.drop_duplicates()\n",
    "print(f\"Num of records after deduplicate: {product_category.count()}\")"
   ]
  },
  {
   "cell_type": "markdown",
   "id": "6f1db050-0814-4b47-99e4-ab6b2a70b702",
   "metadata": {
    "jp-MarkdownHeadingCollapsed": true
   },
   "source": [
    "### Filtering"
   ]
  },
  {
   "cell_type": "markdown",
   "id": "d592b8f6-4486-4b4b-8b34-f00459219c0b",
   "metadata": {
    "jp-MarkdownHeadingCollapsed": true
   },
   "source": [
    "#### customer"
   ]
  },
  {
   "cell_type": "markdown",
   "id": "41988dc7-689a-48c2-8d5a-7146cc3e6056",
   "metadata": {
    "jp-MarkdownHeadingCollapsed": true
   },
   "source": [
    "#### location"
   ]
  },
  {
   "cell_type": "markdown",
   "id": "6f4f3a41-69a3-467c-b62a-38c30e35c1f8",
   "metadata": {
    "jp-MarkdownHeadingCollapsed": true
   },
   "source": [
    "#### customer_location"
   ]
  },
  {
   "cell_type": "markdown",
   "id": "79f24369-7416-43d1-8ae0-80d621e3d20c",
   "metadata": {
    "jp-MarkdownHeadingCollapsed": true
   },
   "source": [
    "#### customer_phone"
   ]
  },
  {
   "cell_type": "markdown",
   "id": "730aa1ee-f5c4-43ce-beae-f6b78052f131",
   "metadata": {
    "jp-MarkdownHeadingCollapsed": true
   },
   "source": [
    "#### shadow_product"
   ]
  },
  {
   "cell_type": "markdown",
   "id": "2102b05b-3472-470c-bad0-e36800381533",
   "metadata": {
    "jp-MarkdownHeadingCollapsed": true
   },
   "source": [
    "#### category"
   ]
  },
  {
   "cell_type": "markdown",
   "id": "d15d99ec-7c9f-410a-ade3-25ceea1b79ac",
   "metadata": {
    "jp-MarkdownHeadingCollapsed": true
   },
   "source": [
    "#### review"
   ]
  },
  {
   "cell_type": "markdown",
   "id": "1cf922fa-7c37-451a-be68-8e0064f45151",
   "metadata": {
    "jp-MarkdownHeadingCollapsed": true
   },
   "source": [
    "#### product_category"
   ]
  },
  {
   "cell_type": "markdown",
   "id": "882d3403-dd61-446d-90c8-91709019f057",
   "metadata": {},
   "source": [
    "### Missing data processing"
   ]
  },
  {
   "cell_type": "markdown",
   "id": "f3f1fd52-cf2c-4829-9e0e-3698e2424bb6",
   "metadata": {},
   "source": [
    "#### customer"
   ]
  },
  {
   "cell_type": "code",
   "execution_count": null,
   "id": "1cd6b07e-d60d-49a4-a2c7-e6c9e0c016e5",
   "metadata": {},
   "outputs": [],
   "source": [
    "df = spark.table(\"nessie.bronze.customer\")\n",
    "df.printSchema()"
   ]
  },
  {
   "cell_type": "markdown",
   "id": "b90594e5-8ef0-4e1d-b33c-bb8bd5e250d5",
   "metadata": {
    "jp-MarkdownHeadingCollapsed": true
   },
   "source": [
    "#### location"
   ]
  },
  {
   "cell_type": "markdown",
   "id": "579b714e-73c5-44ff-a19d-30555ea67098",
   "metadata": {
    "jp-MarkdownHeadingCollapsed": true
   },
   "source": [
    "#### customer_location"
   ]
  },
  {
   "cell_type": "markdown",
   "id": "ac6f0e9a-c2b5-4fde-bf20-b564b740a9ae",
   "metadata": {
    "jp-MarkdownHeadingCollapsed": true
   },
   "source": [
    "#### customer_phone"
   ]
  },
  {
   "cell_type": "markdown",
   "id": "64750807-dc69-4a76-86c8-fca8b1888ef4",
   "metadata": {
    "jp-MarkdownHeadingCollapsed": true
   },
   "source": [
    "#### shadow_product"
   ]
  },
  {
   "cell_type": "markdown",
   "id": "7a81ae06-ff6c-4083-9caf-f596e319b80a",
   "metadata": {
    "jp-MarkdownHeadingCollapsed": true
   },
   "source": [
    "#### category"
   ]
  },
  {
   "cell_type": "markdown",
   "id": "e33fe4d0-7924-429c-b5c5-df294ab597d5",
   "metadata": {
    "jp-MarkdownHeadingCollapsed": true
   },
   "source": [
    "#### review"
   ]
  },
  {
   "cell_type": "markdown",
   "id": "310aacf3-3664-45c5-b095-9ccaad3ce009",
   "metadata": {
    "jp-MarkdownHeadingCollapsed": true
   },
   "source": [
    "#### product_category"
   ]
  },
  {
   "cell_type": "code",
   "execution_count": 35,
   "id": "ebe7f5f9-2fb3-4ce7-a76a-b7aaa35c3afa",
   "metadata": {},
   "outputs": [
    {
     "name": "stdout",
     "output_type": "stream",
     "text": [
      "+--------+--------------------+---+--------------------+----------+--------------+--------------+----------+----------+-------------------+--------------------+-----------+\n",
      "|      id|                name|sex|                mail| birthdate|login_username|login_password|created_at|updated_at|       _ingested_at|           _batch_id|_is_deleted|\n",
      "+--------+--------------------+---+--------------------+----------+--------------+--------------+----------+----------+-------------------+--------------------+-----------+\n",
      "| 8130334|      Michael Valdez|  M|zacharyalexander@...|1985-12-13|      zmarquez|  om%d+8iL1C?x|2009-12-13|2009-12-13|2010-01-01 01:01:01|0cedbf83-747a-41b...|      false|\n",
      "|15938823|Dr. Melanie Ander...|  F|    cadams@gmail.com|1983-12-13|       bgarner|  :2W76-=a2ZcB|2009-12-13|2009-12-13|2010-01-01 01:01:01|0cedbf83-747a-41b...|      false|\n",
      "|23830874|     Rachel Anderson|  F|christopherbraun@...|1989-12-13|     chadperez|  ;P2e&rBU#fj8|2009-12-13|2009-12-13|2010-01-01 01:01:01|0cedbf83-747a-41b...|      false|\n",
      "|37459782|      Kenneth Morrow|  M|    qhogan@yahoo.com|1977-12-13|      csanchez|  eau41HJru4;b|2009-12-13|2009-12-13|2010-01-01 01:01:01|0cedbf83-747a-41b...|      false|\n",
      "|45840137|      Chelsea Golden|  F|  hreyes@hotmail.com|1986-12-13|       craig83|  t=m*q<Vk0HP#|2009-12-13|2009-12-13|2010-01-01 01:01:01|0cedbf83-747a-41b...|      false|\n",
      "|16985445|     Michael Johnson|  M|collinslindsey@ya...|1970-12-13|        sara41|  =b1H.5mMQ>_7|2009-12-13|2009-12-13|2010-01-01 01:01:01|0cedbf83-747a-41b...|      false|\n",
      "|36130429|       Crystal Walsh|  F|elizabeth43@hotma...|1975-12-13|        pdavis|  ,hS&2a~zdtTI|2009-12-13|2009-12-13|2010-01-01 01:01:01|0cedbf83-747a-41b...|      false|\n",
      "|28434159|      Cindy Figueroa|  F|  stacey50@yahoo.com|1976-12-13|  rojastiffany|  gMk)FCC7+w_=|2009-12-13|2009-12-13|2010-01-01 01:01:01|0cedbf83-747a-41b...|      false|\n",
      "|21482800|           Karen Cox|  F|  yjohnson@gmail.com|1988-12-13|   chriswilson|  Dld0JKZXBs~P|2009-12-13|2009-12-13|2010-01-01 01:01:01|0cedbf83-747a-41b...|      false|\n",
      "|36809838|       Vincent Singh|  M|duranchristopher@...|1979-12-13|         kkane|  &5Vl|r)?cV{b|2009-12-13|2009-12-13|2010-01-01 01:01:01|0cedbf83-747a-41b...|      false|\n",
      "|52037238|    Gregory Martinez|  M|marcusstevens@hot...|1984-12-13|       wyatt02|  +e&?i4At*i-B|2009-12-13|2009-12-13|2010-01-01 01:01:01|0cedbf83-747a-41b...|      false|\n",
      "|18562061|         Wanda Horne|  F|alexandra24@hotma...|1980-12-13|       brent00|  9Nr.VLzq@-XP|2009-12-13|2009-12-13|2010-01-01 01:01:01|0cedbf83-747a-41b...|      false|\n",
      "|44770933|        Omar English|  M|zachary12@hotmail...|1973-12-13| allisonnicole|  Yb0Ve2L__qj%|2009-12-13|2009-12-13|2010-01-01 01:01:01|0cedbf83-747a-41b...|      false|\n",
      "|10658006|       Wesley Castro|  M|    alex37@gmail.com|1982-12-13|        mark88|  9wYCu63~OE?+|2009-12-13|2009-12-13|2010-01-01 01:01:01|0cedbf83-747a-41b...|      false|\n",
      "|24588920|     Brandon Sanchez|  M| efowler@hotmail.com|1974-12-13|   angelalewis|  ^+AlP7(o5ba9|2009-12-13|2009-12-13|2010-01-01 01:01:01|0cedbf83-747a-41b...|      false|\n",
      "|  872894|        Ellen Garcia|  F|vanessalee@yahoo.com|1977-12-13| patrickfoster|  u~3FC;O0_<7G|2009-12-13|2009-12-13|2010-01-01 01:01:01|0cedbf83-747a-41b...|      false|\n",
      "| 2057140|         Emma Curtis|  F|simpsonnina@gmail...|1984-12-13|     matthew46|  D3+Ke0-apEgp|2009-12-13|2009-12-13|2010-01-01 01:01:01|0cedbf83-747a-41b...|      false|\n",
      "|19723781|   Kimberly Hamilton|  F|ricehunter@gmail.com|1972-12-13| jenniferclark|  47!7S/Q$l1=$|2009-12-13|2009-12-13|2010-01-01 01:01:01|0cedbf83-747a-41b...|      false|\n",
      "|44345250|  Elizabeth Williams|  F|dennislara@hotmai...|1989-12-13|  richarddavis|  )8_xs|%37#VQ|2009-12-13|2009-12-13|2010-01-01 01:01:01|0cedbf83-747a-41b...|      false|\n",
      "|46372690|    Michael Martinez|  M|  ronald23@yahoo.com|1976-12-13|  smithbarbara|  /t89-pFKnL:T|2009-12-13|2009-12-13|2010-01-01 01:01:01|0cedbf83-747a-41b...|      false|\n",
      "+--------+--------------------+---+--------------------+----------+--------------+--------------+----------+----------+-------------------+--------------------+-----------+\n",
      "only showing top 20 rows\n",
      "\n"
     ]
    }
   ],
   "source": [
    "df.show()"
   ]
  },
  {
   "cell_type": "code",
   "execution_count": 32,
   "id": "fde40087-25ee-4e31-94ad-e06a28b19d76",
   "metadata": {},
   "outputs": [
    {
     "data": {
      "text/plain": [
       "300"
      ]
     },
     "execution_count": 32,
     "metadata": {},
     "output_type": "execute_result"
    }
   ],
   "source": [
    "df.na.drop(subset=[]).count()"
   ]
  },
  {
   "cell_type": "markdown",
   "id": "1aa84d4d-ce70-4132-8a80-f931776648da",
   "metadata": {
    "jp-MarkdownHeadingCollapsed": true
   },
   "source": [
    "### Loại bỏ khoảng trắng không cần thiết."
   ]
  },
  {
   "cell_type": "markdown",
   "id": "3c0cfe96-a64a-4c26-b2a7-740f907b4126",
   "metadata": {
    "jp-MarkdownHeadingCollapsed": true
   },
   "source": [
    "#### customer"
   ]
  },
  {
   "cell_type": "code",
   "execution_count": null,
   "id": "355df97a-dd2d-45d0-9408-14a38a702979",
   "metadata": {},
   "outputs": [],
   "source": [
    "df = spark.table(\"nessie.bronze.customer\")\n",
    "df.printSchema()"
   ]
  },
  {
   "cell_type": "markdown",
   "id": "d9acda69-d81f-4bf2-b523-6528b8361183",
   "metadata": {
    "jp-MarkdownHeadingCollapsed": true
   },
   "source": [
    "#### location"
   ]
  },
  {
   "cell_type": "markdown",
   "id": "4f7a806d-7291-44ad-8df5-887cf23e0c7f",
   "metadata": {
    "jp-MarkdownHeadingCollapsed": true
   },
   "source": [
    "#### customer_location"
   ]
  },
  {
   "cell_type": "markdown",
   "id": "acc04258-cce6-4ced-9850-0b714eeab777",
   "metadata": {
    "jp-MarkdownHeadingCollapsed": true
   },
   "source": [
    "#### customer_phone"
   ]
  },
  {
   "cell_type": "markdown",
   "id": "3bc0ce12-fb9e-4d33-9fc4-7692dd79a27a",
   "metadata": {
    "jp-MarkdownHeadingCollapsed": true
   },
   "source": [
    "#### shadow_product"
   ]
  },
  {
   "cell_type": "markdown",
   "id": "e8787823-5901-4434-b3c2-37aa43da1073",
   "metadata": {
    "jp-MarkdownHeadingCollapsed": true
   },
   "source": [
    "#### category"
   ]
  },
  {
   "cell_type": "markdown",
   "id": "131a93b9-8e8b-458a-aa07-b6cd4ea27d69",
   "metadata": {
    "jp-MarkdownHeadingCollapsed": true
   },
   "source": [
    "#### review"
   ]
  },
  {
   "cell_type": "markdown",
   "id": "34dcd774-4fbe-47fa-ae2c-bbb39580206d",
   "metadata": {
    "jp-MarkdownHeadingCollapsed": true
   },
   "source": [
    "#### product_category"
   ]
  },
  {
   "cell_type": "markdown",
   "id": "68a90e62-520b-4183-bdd0-480102706b5c",
   "metadata": {
    "jp-MarkdownHeadingCollapsed": true
   },
   "source": [
    "### Sửa invalid values"
   ]
  },
  {
   "cell_type": "markdown",
   "id": "469032c9-4a0e-462b-b776-2614b8d58ec8",
   "metadata": {
    "jp-MarkdownHeadingCollapsed": true
   },
   "source": [
    "#### customer"
   ]
  },
  {
   "cell_type": "code",
   "execution_count": null,
   "id": "78b45401-b642-4ad1-9c6a-04779fda9fd9",
   "metadata": {},
   "outputs": [],
   "source": [
    "df = spark.table(\"nessie.bronze.customer\")\n",
    "df.printSchema()"
   ]
  },
  {
   "cell_type": "markdown",
   "id": "07fb2a9d-88d4-42a6-9f6b-9eef5e94826c",
   "metadata": {
    "jp-MarkdownHeadingCollapsed": true
   },
   "source": [
    "#### location"
   ]
  },
  {
   "cell_type": "markdown",
   "id": "505c1c5c-bb99-457c-bc03-f1f88c7b17bd",
   "metadata": {
    "jp-MarkdownHeadingCollapsed": true
   },
   "source": [
    "#### customer_location"
   ]
  },
  {
   "cell_type": "markdown",
   "id": "c16629f0-3ee0-4b28-b449-be2538aa2a9e",
   "metadata": {
    "jp-MarkdownHeadingCollapsed": true
   },
   "source": [
    "#### customer_phone"
   ]
  },
  {
   "cell_type": "markdown",
   "id": "ceda7c3e-78c2-46e2-881b-2684ee0fa2d4",
   "metadata": {
    "jp-MarkdownHeadingCollapsed": true
   },
   "source": [
    "#### shadow_product"
   ]
  },
  {
   "cell_type": "markdown",
   "id": "c8655eec-682f-4073-a88e-546c46bb6204",
   "metadata": {
    "jp-MarkdownHeadingCollapsed": true
   },
   "source": [
    "#### category"
   ]
  },
  {
   "cell_type": "markdown",
   "id": "dbef6dca-33a8-4834-8b5b-3eb85aec948f",
   "metadata": {
    "jp-MarkdownHeadingCollapsed": true
   },
   "source": [
    "#### review"
   ]
  },
  {
   "cell_type": "markdown",
   "id": "bfa975ac-0ccc-49da-ba97-55835c841f56",
   "metadata": {
    "jp-MarkdownHeadingCollapsed": true
   },
   "source": [
    "#### product_category"
   ]
  },
  {
   "cell_type": "markdown",
   "id": "ad8a194d-bc3f-469b-b916-58d3f66bc961",
   "metadata": {
    "jp-MarkdownHeadingCollapsed": true
   },
   "source": [
    "### Phát hiện và xử lý outliers"
   ]
  },
  {
   "cell_type": "markdown",
   "id": "e9bdee9e-373b-408e-820d-e3f6a9b1fc82",
   "metadata": {
    "jp-MarkdownHeadingCollapsed": true
   },
   "source": [
    "#### customer"
   ]
  },
  {
   "cell_type": "code",
   "execution_count": null,
   "id": "39543458-6a53-4afd-a491-3f19f3c4b529",
   "metadata": {},
   "outputs": [],
   "source": [
    "df = spark.table(\"nessie.bronze.customer\")\n",
    "df.printSchema()"
   ]
  },
  {
   "cell_type": "markdown",
   "id": "9fff1a92-c3c9-4a81-944f-f8c33a0c352e",
   "metadata": {
    "jp-MarkdownHeadingCollapsed": true
   },
   "source": [
    "#### location"
   ]
  },
  {
   "cell_type": "markdown",
   "id": "708c1dbd-0e44-467e-8738-bd0e10bd2d02",
   "metadata": {
    "jp-MarkdownHeadingCollapsed": true
   },
   "source": [
    "#### customer_location"
   ]
  },
  {
   "cell_type": "markdown",
   "id": "89ae40fa-8b41-4081-aeee-7d54a990375f",
   "metadata": {
    "jp-MarkdownHeadingCollapsed": true
   },
   "source": [
    "#### customer_phone"
   ]
  },
  {
   "cell_type": "markdown",
   "id": "e6d57b2a-93a6-4930-92cd-d8800389b102",
   "metadata": {
    "jp-MarkdownHeadingCollapsed": true
   },
   "source": [
    "#### shadow_product"
   ]
  },
  {
   "cell_type": "markdown",
   "id": "3c6fbe8d-933d-45b0-9e2c-08949235e4ae",
   "metadata": {
    "jp-MarkdownHeadingCollapsed": true
   },
   "source": [
    "#### category"
   ]
  },
  {
   "cell_type": "markdown",
   "id": "396ffd88-c126-42f1-ad32-a46a1d6d3da6",
   "metadata": {
    "jp-MarkdownHeadingCollapsed": true
   },
   "source": [
    "#### review"
   ]
  },
  {
   "cell_type": "markdown",
   "id": "285e99aa-cee7-4358-b850-f4b023747a52",
   "metadata": {
    "jp-MarkdownHeadingCollapsed": true
   },
   "source": [
    "#### product_category"
   ]
  },
  {
   "cell_type": "markdown",
   "id": "eb8be8df-bf4c-460f-bfb3-7e31101ab817",
   "metadata": {
    "jp-MarkdownHeadingCollapsed": true
   },
   "source": [
    "### Data Standardization & Normalization"
   ]
  },
  {
   "cell_type": "markdown",
   "id": "944f340e-2d4e-49b2-b285-2d39ba703c4f",
   "metadata": {
    "jp-MarkdownHeadingCollapsed": true
   },
   "source": [
    "#### customer"
   ]
  },
  {
   "cell_type": "code",
   "execution_count": null,
   "id": "a51022cc-fc47-440b-ba20-7892d6809b13",
   "metadata": {},
   "outputs": [],
   "source": [
    "df = spark.table(\"nessie.bronze.customer\")\n",
    "df.printSchema()"
   ]
  },
  {
   "cell_type": "markdown",
   "id": "4aa92fe1-0f41-4dc6-a858-9957f4f433d2",
   "metadata": {
    "jp-MarkdownHeadingCollapsed": true
   },
   "source": [
    "#### location"
   ]
  },
  {
   "cell_type": "markdown",
   "id": "650cc865-e913-41e0-894f-5e44bb4a9ab7",
   "metadata": {
    "jp-MarkdownHeadingCollapsed": true
   },
   "source": [
    "#### customer_location"
   ]
  },
  {
   "cell_type": "markdown",
   "id": "0906701e-7b7e-4b42-94ff-7d9ba788e6a5",
   "metadata": {
    "jp-MarkdownHeadingCollapsed": true
   },
   "source": [
    "#### customer_phone"
   ]
  },
  {
   "cell_type": "markdown",
   "id": "1762819f-8dc0-4246-8d33-49fd7e899d71",
   "metadata": {
    "jp-MarkdownHeadingCollapsed": true
   },
   "source": [
    "#### shadow_product"
   ]
  },
  {
   "cell_type": "markdown",
   "id": "7012d576-be05-47cc-8342-ff710f8e551f",
   "metadata": {
    "jp-MarkdownHeadingCollapsed": true
   },
   "source": [
    "#### category"
   ]
  },
  {
   "cell_type": "markdown",
   "id": "0ef5fbfb-2e0d-4ea2-945b-ad3a803b9105",
   "metadata": {
    "jp-MarkdownHeadingCollapsed": true
   },
   "source": [
    "#### review"
   ]
  },
  {
   "cell_type": "markdown",
   "id": "d1323c7c-6cc6-4ae5-8bdd-fb29f3a1aae2",
   "metadata": {
    "jp-MarkdownHeadingCollapsed": true
   },
   "source": [
    "#### product_category"
   ]
  },
  {
   "cell_type": "markdown",
   "id": "539604d2-7293-4c2e-a934-a3bddc4d56b0",
   "metadata": {
    "jp-MarkdownHeadingCollapsed": true
   },
   "source": [
    "### Late deduplicate"
   ]
  },
  {
   "cell_type": "markdown",
   "id": "acd24990-5d15-47b4-be88-e7ef23e53d11",
   "metadata": {
    "jp-MarkdownHeadingCollapsed": true
   },
   "source": [
    "#### customer"
   ]
  },
  {
   "cell_type": "code",
   "execution_count": null,
   "id": "365c0384-84b4-4103-93a4-d4f1d3fbe32f",
   "metadata": {},
   "outputs": [],
   "source": [
    "df = spark.table(\"nessie.bronze.customer\")\n",
    "df.printSchema()"
   ]
  },
  {
   "cell_type": "markdown",
   "id": "56cdc845-908e-45cd-bd3b-39366c4d53cd",
   "metadata": {
    "jp-MarkdownHeadingCollapsed": true
   },
   "source": [
    "#### location"
   ]
  },
  {
   "cell_type": "markdown",
   "id": "db1953b0-cc11-452b-aa5a-320a0b4ce863",
   "metadata": {
    "jp-MarkdownHeadingCollapsed": true
   },
   "source": [
    "#### customer_location"
   ]
  },
  {
   "cell_type": "markdown",
   "id": "c8444c7e-ab65-4709-8d44-53d4d0ea2b79",
   "metadata": {
    "jp-MarkdownHeadingCollapsed": true
   },
   "source": [
    "#### customer_phone"
   ]
  },
  {
   "cell_type": "markdown",
   "id": "f8950190-51b7-4641-835a-17c653e3d7ab",
   "metadata": {
    "jp-MarkdownHeadingCollapsed": true
   },
   "source": [
    "#### shadow_product"
   ]
  },
  {
   "cell_type": "markdown",
   "id": "22725711-0705-4098-97e7-cb69e83a3f3c",
   "metadata": {
    "jp-MarkdownHeadingCollapsed": true
   },
   "source": [
    "#### category"
   ]
  },
  {
   "cell_type": "markdown",
   "id": "7d82c093-fa9e-4a14-b61f-e933eb436d2e",
   "metadata": {
    "jp-MarkdownHeadingCollapsed": true
   },
   "source": [
    "#### review"
   ]
  },
  {
   "cell_type": "markdown",
   "id": "13b4ab79-5b09-4975-9d37-db422c366687",
   "metadata": {
    "jp-MarkdownHeadingCollapsed": true
   },
   "source": [
    "#### product_category"
   ]
  },
  {
   "cell_type": "markdown",
   "id": "66960c05-94c4-4171-9cbb-2e0c6b8ccbd2",
   "metadata": {
    "jp-MarkdownHeadingCollapsed": true
   },
   "source": [
    "### Data Enrichment & Derived Columns"
   ]
  },
  {
   "cell_type": "markdown",
   "id": "de337d03-7e09-4b2c-b441-9546da79b5c1",
   "metadata": {
    "jp-MarkdownHeadingCollapsed": true
   },
   "source": [
    "#### customer"
   ]
  },
  {
   "cell_type": "code",
   "execution_count": null,
   "id": "01926ab1-7412-442c-a3e4-ae0c6bffd812",
   "metadata": {},
   "outputs": [],
   "source": [
    "df = spark.table(\"nessie.bronze.customer\")\n",
    "df.printSchema()"
   ]
  },
  {
   "cell_type": "markdown",
   "id": "9796edb3-97ef-4e20-a9cf-f3c9d1ebcecd",
   "metadata": {
    "jp-MarkdownHeadingCollapsed": true
   },
   "source": [
    "#### location"
   ]
  },
  {
   "cell_type": "markdown",
   "id": "d6b76c96-8342-403f-bb4d-bd359b9977c6",
   "metadata": {
    "jp-MarkdownHeadingCollapsed": true
   },
   "source": [
    "#### customer_location"
   ]
  },
  {
   "cell_type": "markdown",
   "id": "f211c7df-bb3a-416b-a3ab-fae2cc0071dc",
   "metadata": {
    "jp-MarkdownHeadingCollapsed": true
   },
   "source": [
    "#### customer_phone"
   ]
  },
  {
   "cell_type": "markdown",
   "id": "22a24af0-4967-4876-a30a-9f7058df0a24",
   "metadata": {
    "jp-MarkdownHeadingCollapsed": true
   },
   "source": [
    "#### shadow_product"
   ]
  },
  {
   "cell_type": "markdown",
   "id": "216bd5d2-df9e-449c-a73b-2be5d044a40d",
   "metadata": {
    "jp-MarkdownHeadingCollapsed": true
   },
   "source": [
    "#### category"
   ]
  },
  {
   "cell_type": "markdown",
   "id": "bc9a6b0f-a4a2-4fe8-bf36-f533fd9ea6d2",
   "metadata": {
    "jp-MarkdownHeadingCollapsed": true
   },
   "source": [
    "#### review"
   ]
  },
  {
   "cell_type": "markdown",
   "id": "53ed7add-696e-474a-9c40-20464b369510",
   "metadata": {
    "jp-MarkdownHeadingCollapsed": true
   },
   "source": [
    "#### product_category"
   ]
  },
  {
   "cell_type": "markdown",
   "id": "89e67977-e0ff-49ed-9d33-12be6409c717",
   "metadata": {
    "jp-MarkdownHeadingCollapsed": true
   },
   "source": [
    "### Conformance (chuẩn chung enterprise)"
   ]
  },
  {
   "cell_type": "markdown",
   "id": "9bf2870c-4ca9-4ec2-b7bf-9990038f3315",
   "metadata": {
    "jp-MarkdownHeadingCollapsed": true
   },
   "source": [
    "#### customer"
   ]
  },
  {
   "cell_type": "code",
   "execution_count": null,
   "id": "ef1b47ce-c445-460a-af10-4a25f537cb93",
   "metadata": {},
   "outputs": [],
   "source": [
    "df = spark.table(\"nessie.bronze.customer\")\n",
    "df.printSchema()"
   ]
  },
  {
   "cell_type": "markdown",
   "id": "fe872b1b-740a-48b0-9d1f-e749205fd683",
   "metadata": {
    "jp-MarkdownHeadingCollapsed": true
   },
   "source": [
    "#### location"
   ]
  },
  {
   "cell_type": "markdown",
   "id": "6b03498c-46b9-44a9-885c-392e35bb899a",
   "metadata": {
    "jp-MarkdownHeadingCollapsed": true
   },
   "source": [
    "#### customer_location"
   ]
  },
  {
   "cell_type": "markdown",
   "id": "d938263c-c4bf-4406-b2b1-0c4755b08c7e",
   "metadata": {
    "jp-MarkdownHeadingCollapsed": true
   },
   "source": [
    "#### customer_phone"
   ]
  },
  {
   "cell_type": "markdown",
   "id": "2ed8b9d4-4e27-4752-bb66-6409c6d70cce",
   "metadata": {
    "jp-MarkdownHeadingCollapsed": true
   },
   "source": [
    "#### shadow_product"
   ]
  },
  {
   "cell_type": "markdown",
   "id": "8a67a541-6fc1-4345-953d-0f28cdaf7742",
   "metadata": {
    "jp-MarkdownHeadingCollapsed": true
   },
   "source": [
    "#### category"
   ]
  },
  {
   "cell_type": "markdown",
   "id": "e752eac4-4597-4507-8c6f-45734483a559",
   "metadata": {
    "jp-MarkdownHeadingCollapsed": true
   },
   "source": [
    "#### review"
   ]
  },
  {
   "cell_type": "markdown",
   "id": "7312dd82-c84d-44f9-a079-f238f3cf5ac9",
   "metadata": {
    "jp-MarkdownHeadingCollapsed": true
   },
   "source": [
    "#### product_category"
   ]
  },
  {
   "cell_type": "markdown",
   "id": "8e916faa-cc4b-47f2-b4bb-0e8fb3aba641",
   "metadata": {
    "jp-MarkdownHeadingCollapsed": true
   },
   "source": [
    "### Slowly Changing Dimension (SCD)"
   ]
  },
  {
   "cell_type": "markdown",
   "id": "3c04115b-60a9-46a5-9f7c-f02bb5b2cc81",
   "metadata": {
    "jp-MarkdownHeadingCollapsed": true
   },
   "source": [
    "#### customer"
   ]
  },
  {
   "cell_type": "code",
   "execution_count": null,
   "id": "8fc0d78f-c90f-4ad3-8d71-c880f1363f9e",
   "metadata": {},
   "outputs": [],
   "source": [
    "df = spark.table(\"nessie.bronze.customer\")\n",
    "df.printSchema()"
   ]
  },
  {
   "cell_type": "markdown",
   "id": "4093c424-09f6-49d8-b06e-4761c0c71c9e",
   "metadata": {
    "jp-MarkdownHeadingCollapsed": true
   },
   "source": [
    "#### location"
   ]
  },
  {
   "cell_type": "markdown",
   "id": "453b696a-9e90-41b6-b75d-6280f37d457b",
   "metadata": {
    "jp-MarkdownHeadingCollapsed": true
   },
   "source": [
    "#### customer_location"
   ]
  },
  {
   "cell_type": "markdown",
   "id": "871e862e-e15c-4a70-8879-fe82b6b8fd49",
   "metadata": {
    "jp-MarkdownHeadingCollapsed": true
   },
   "source": [
    "#### customer_phone"
   ]
  },
  {
   "cell_type": "markdown",
   "id": "e55ac8b8-4fdb-4964-a7d8-9d0c618676a4",
   "metadata": {
    "jp-MarkdownHeadingCollapsed": true
   },
   "source": [
    "#### shadow_product"
   ]
  },
  {
   "cell_type": "markdown",
   "id": "b2a274ad-1970-42b0-a345-06c019125f84",
   "metadata": {
    "jp-MarkdownHeadingCollapsed": true
   },
   "source": [
    "#### category"
   ]
  },
  {
   "cell_type": "markdown",
   "id": "ab1caad6-8dd8-4858-bb5d-50a005867a76",
   "metadata": {
    "jp-MarkdownHeadingCollapsed": true
   },
   "source": [
    "#### review"
   ]
  },
  {
   "cell_type": "markdown",
   "id": "8526813b-ef25-46dd-862f-723aa5bd1848",
   "metadata": {
    "jp-MarkdownHeadingCollapsed": true
   },
   "source": [
    "#### product_category"
   ]
  }
 ],
 "metadata": {
  "kernelspec": {
   "display_name": "Python 3 (ipykernel)",
   "language": "python",
   "name": "python3"
  },
  "language_info": {
   "codemirror_mode": {
    "name": "ipython",
    "version": 3
   },
   "file_extension": ".py",
   "mimetype": "text/x-python",
   "name": "python",
   "nbconvert_exporter": "python",
   "pygments_lexer": "ipython3",
   "version": "3.8.20"
  }
 },
 "nbformat": 4,
 "nbformat_minor": 5
}
